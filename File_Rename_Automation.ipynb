{
  "nbformat": 4,
  "nbformat_minor": 0,
  "metadata": {
    "colab": {
      "name": "File_Rename_Automation.ipynb",
      "provenance": [],
      "collapsed_sections": [],
      "toc_visible": true,
      "include_colab_link": true
    },
    "kernelspec": {
      "display_name": "Python 3",
      "name": "python3"
    }
  },
  "cells": [
    {
      "cell_type": "markdown",
      "metadata": {
        "id": "view-in-github",
        "colab_type": "text"
      },
      "source": [
        "<a href=\"https://colab.research.google.com/github/achrafaitmbarek/Automated-Files-Folders-Management-/blob/main/File_Rename_Automation.ipynb\" target=\"_parent\"><img src=\"https://colab.research.google.com/assets/colab-badge.svg\" alt=\"Open In Colab\"/></a>"
      ]
    },
    {
      "cell_type": "markdown",
      "metadata": {
        "id": "NpEML_FN_hme"
      },
      "source": [
        "\n",
        "***Liaison avec Google Drive***"
      ]
    },
    {
      "cell_type": "code",
      "metadata": {
        "id": "50jMVGJrbSOC"
      },
      "source": [
        "from google.colab import drive\n",
        "drive.mount('/content/drive')"
      ],
      "execution_count": null,
      "outputs": []
    },
    {
      "cell_type": "markdown",
      "metadata": {
        "id": "zALJliHnAC4k"
      },
      "source": [
        "*here we will automate the process of organizing the data where every file should have the same name as the directory parent* "
      ]
    },
    {
      "cell_type": "code",
      "metadata": {
        "id": "knPxZr_xVkTx"
      },
      "source": [
        "import subprocess \n",
        "import os \n",
        "from PIL import Image\n",
        "#path=(\"/content/drive/MyDrive/Rapport PFE - HexaCoders/Dataset V2/TrainingData\")\n",
        "#path=\"/content/drive/MyDrive/Rapport PFE - HexaCoders/Dataset V2/TestingData\"\n",
        "path=\"/content/drive/MyDrive/Renom_Test\"\n",
        "for filename in os.listdir(path):\n",
        "   path_image = os.path.join(path,filename) \n",
        "   i=1 \n",
        "   for img in os.listdir(path_image): \n",
        "       file_name = os.path.join(path_image,img)\n",
        "       #split= os.path.splitext(file_name)\n",
        "       #new_file_name = os.path.join(path_image,filename+\"_\"+str(i)+\".png\") \n",
        "       #os.rename(old_file_name, new_file_name)\n",
        "       #tmp = new_file_name.split('.')[0] \n",
        "       im = Image.open(file_name)\n",
        "       im = im.resize((64, 64))\n",
        "       im = im.convert('RGB')\n",
        "       f\n",
        "          os.rename(file_name,split[0]+'.jpeg')\n",
        "       im.save(file_name) \n",
        "       print(str(i))\n",
        "       i+=1"
      ],
      "execution_count": null,
      "outputs": []
    },
    {
      "cell_type": "markdown",
      "metadata": {
        "id": "xdFvnCDT9w-R"
      },
      "source": [
        "## ***create folders automatically***"
      ]
    },
    {
      "cell_type": "code",
      "metadata": {
        "id": "JGg2ATskFz96"
      },
      "source": [
        "# importing os module   \n",
        "import os      \n",
        "# Directory  \n",
        "#Parent Directory path \n",
        "  directories = [\"Folder1\",\"Folder2\",\"Folder3\"]#you can more folders as you need  to the array \n",
        "  parent_dir = \"/content/drive/MyDrive/Rapport PFE - HexaCoders/Dataset V2/TestingData\"\n",
        "  i=0\n",
        "# Path \n",
        "for i in directories:\n",
        "  path = os.path.join(parent_dir, i)\n",
        "  if not os.path.exists(path):\n",
        "   os.mkdir(path)  \n",
        "   print(\"Directory '% s' created\" %i)\n",
        "# from google.colab import files\n",
        "# uploaded = files.upload()\n",
        "# for fn in uploaded.keys():\n",
        "#   print('User uploaded file \"{name}\" with length {length} bytes'.format(\n",
        "#       name=fn, length=len(uploaded[fn])))\n"
      ],
      "execution_count": null,
      "outputs": []
    },
    {
      "cell_type": "markdown",
      "metadata": {
        "id": "K0Lb0ZCKKQmZ"
      },
      "source": [
        "# New Section"
      ]
    },
    {
      "cell_type": "code",
      "metadata": {
        "id": "dUYY36PSKZZf"
      },
      "source": [
        "import subprocess \n",
        "import os \n",
        "import image as img \n",
        "from PIL import Image\n",
        "#path=(\"/content/drive/MyDrive/Rapport PFE - HexaCoders/Dataset V2/TrainingData\")\n",
        "path=\"/content/drive/MyDrive/Rapport PFE - HexaCoders/Dataset V2/TestingData\"\n",
        "#counting number of images\n",
        "for filename in os.listdir(path):\n",
        "  path2=os.path.join(path,filename)\n",
        "  list = os.listdir(path2) # dir is your directory path\n",
        "  number_files = len(list)\n",
        "  #if number_files>100:\n",
        "  print (filename,\"=\",number_files)\n",
        "  #print(filename,100-number_files)"
      ],
      "execution_count": null,
      "outputs": []
    },
    {
      "cell_type": "code",
      "metadata": {
        "colab": {
          "base_uri": "https://localhost:8080/",
          "height": 350
        },
        "id": "vCxZS6T1htjI",
        "outputId": "4d4ff23d-b2f9-44fc-c68f-8f37728778a0"
      },
      "source": [
        "import subprocess \n",
        "import os \n",
        "import image as img \n",
        "from PIL import Image\n",
        "path=\"/content/drive/MyDrive/Test2\"\n",
        "for filename in os.listdir(path):\n",
        "   path_image = os.path.join(path,filename) \n",
        "   i=1 \n",
        "   for img in os.listdir(path_image): \n",
        "      file_name=os.path.join(path_image,img)\n",
        "      print(str(i))\n",
        "      i+=1"
      ],
      "execution_count": null,
      "outputs": [
        {
          "output_type": "error",
          "ename": "FileNotFoundError",
          "evalue": "ignored",
          "traceback": [
            "\u001b[0;31m---------------------------------------------------------------------------\u001b[0m",
            "\u001b[0;31mFileNotFoundError\u001b[0m                         Traceback (most recent call last)",
            "\u001b[0;32m<ipython-input-14-dc7bb521ba1f>\u001b[0m in \u001b[0;36m<module>\u001b[0;34m()\u001b[0m\n\u001b[1;32m      9\u001b[0m    \u001b[0;32mfor\u001b[0m \u001b[0mimg\u001b[0m \u001b[0;32min\u001b[0m \u001b[0mos\u001b[0m\u001b[0;34m.\u001b[0m\u001b[0mlistdir\u001b[0m\u001b[0;34m(\u001b[0m\u001b[0mpath_image\u001b[0m\u001b[0;34m)\u001b[0m\u001b[0;34m:\u001b[0m\u001b[0;34m\u001b[0m\u001b[0;34m\u001b[0m\u001b[0m\n\u001b[1;32m     10\u001b[0m       \u001b[0mfile_name\u001b[0m\u001b[0;34m=\u001b[0m\u001b[0mos\u001b[0m\u001b[0;34m.\u001b[0m\u001b[0mpath\u001b[0m\u001b[0;34m.\u001b[0m\u001b[0mjoin\u001b[0m\u001b[0;34m(\u001b[0m\u001b[0mpath_image\u001b[0m\u001b[0;34m,\u001b[0m\u001b[0mimg\u001b[0m\u001b[0;34m)\u001b[0m\u001b[0;34m\u001b[0m\u001b[0;34m\u001b[0m\u001b[0m\n\u001b[0;32m---> 11\u001b[0;31m       \u001b[0mim\u001b[0m \u001b[0;34m=\u001b[0m \u001b[0mImage\u001b[0m\u001b[0;34m.\u001b[0m\u001b[0mopen\u001b[0m\u001b[0;34m(\u001b[0m\u001b[0mfile_name\u001b[0m\u001b[0;34m+\u001b[0m\u001b[0;34m'jpeg.png'\u001b[0m\u001b[0;34m)\u001b[0m\u001b[0;34m\u001b[0m\u001b[0;34m\u001b[0m\u001b[0m\n\u001b[0m\u001b[1;32m     12\u001b[0m       \u001b[0mtmp\u001b[0m \u001b[0;34m=\u001b[0m\u001b[0mfile_name\u001b[0m\u001b[0;34m.\u001b[0m\u001b[0msplit\u001b[0m\u001b[0;34m(\u001b[0m\u001b[0;34m'.'\u001b[0m\u001b[0;34m)\u001b[0m\u001b[0;34m[\u001b[0m\u001b[0;36m0\u001b[0m\u001b[0;34m]\u001b[0m\u001b[0;34m\u001b[0m\u001b[0;34m\u001b[0m\u001b[0m\n\u001b[1;32m     13\u001b[0m       \u001b[0mim\u001b[0m \u001b[0;34m=\u001b[0m \u001b[0mim\u001b[0m\u001b[0;34m.\u001b[0m\u001b[0mresize\u001b[0m\u001b[0;34m(\u001b[0m\u001b[0;34m(\u001b[0m\u001b[0;36m64\u001b[0m\u001b[0;34m,\u001b[0m \u001b[0;36m64\u001b[0m\u001b[0;34m)\u001b[0m\u001b[0;34m)\u001b[0m\u001b[0;34m\u001b[0m\u001b[0;34m\u001b[0m\u001b[0m\n",
            "\u001b[0;32m/usr/local/lib/python3.7/dist-packages/PIL/Image.py\u001b[0m in \u001b[0;36mopen\u001b[0;34m(fp, mode)\u001b[0m\n\u001b[1;32m   2807\u001b[0m \u001b[0;34m\u001b[0m\u001b[0m\n\u001b[1;32m   2808\u001b[0m     \u001b[0;32mif\u001b[0m \u001b[0mfilename\u001b[0m\u001b[0;34m:\u001b[0m\u001b[0;34m\u001b[0m\u001b[0;34m\u001b[0m\u001b[0m\n\u001b[0;32m-> 2809\u001b[0;31m         \u001b[0mfp\u001b[0m \u001b[0;34m=\u001b[0m \u001b[0mbuiltins\u001b[0m\u001b[0;34m.\u001b[0m\u001b[0mopen\u001b[0m\u001b[0;34m(\u001b[0m\u001b[0mfilename\u001b[0m\u001b[0;34m,\u001b[0m \u001b[0;34m\"rb\"\u001b[0m\u001b[0;34m)\u001b[0m\u001b[0;34m\u001b[0m\u001b[0;34m\u001b[0m\u001b[0m\n\u001b[0m\u001b[1;32m   2810\u001b[0m         \u001b[0mexclusive_fp\u001b[0m \u001b[0;34m=\u001b[0m \u001b[0;32mTrue\u001b[0m\u001b[0;34m\u001b[0m\u001b[0;34m\u001b[0m\u001b[0m\n\u001b[1;32m   2811\u001b[0m \u001b[0;34m\u001b[0m\u001b[0m\n",
            "\u001b[0;31mFileNotFoundError\u001b[0m: [Errno 2] No such file or directory: '/content/drive/MyDrive/Test2/yagh/yagh_6.jpegjpeg.png'"
          ]
        }
      ]
    }
  ]
}